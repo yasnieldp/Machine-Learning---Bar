{
 "cells": [
  {
   "cell_type": "code",
   "execution_count": 4,
   "metadata": {},
   "outputs": [
    {
     "name": "stdout",
     "output_type": "stream",
     "text": [
      "              precision    recall  f1-score   support\n",
      "\n",
      "           0       0.97      0.99      0.98        68\n",
      "           1       0.99      0.97      0.98        72\n",
      "\n",
      "    accuracy                           0.98       140\n",
      "   macro avg       0.98      0.98      0.98       140\n",
      "weighted avg       0.98      0.98      0.98       140\n",
      "\n",
      "-----------------------------------------------------\n",
      "Comentario Negativo\n"
     ]
    }
   ],
   "source": [
    "import pandas as pd\n",
    "from sklearn.feature_extraction.text import TfidfVectorizer\n",
    "from sklearn.naive_bayes import MultinomialNB\n",
    "from sklearn.pipeline import make_pipeline\n",
    "from sklearn.metrics import classification_report\n",
    "\n",
    "data = pd.read_excel(\"train.xlsx\")\n",
    "x=data[\"texto\"]\n",
    "y=data[\"clase\"]\n",
    "data1=pd.read_excel(\"Test.xlsx\")\n",
    "xx=data1[\"texto\"]\n",
    "yy=data1[\"clase\"]\n",
    "model = make_pipeline(TfidfVectorizer(),MultinomialNB())\n",
    "model.fit(x,y)\n",
    "ypred=model.predict(xx)\n",
    "print(classification_report(yy,ypred))\n",
    "\n",
    "comentario=(\"Una mala experiencia, pedido a domicilio con más de 45 minutos de espera para una margarita y unas patatas fritas, las cuales han llegado quemadas y parecían estar cocidas en aceite, la pizza un poco mejor pero nada del otro mundo.\")\n",
    "\n",
    "predict=model.predict([comentario])\n",
    "print(\"-----------------------------------------------------\")\n",
    "if predict == 1:\n",
    "    print(\"Comentario Positivo\")\n",
    "else:\n",
    "    print(\"Comentario Negativo\")"
   ]
  },
  {
   "cell_type": "code",
   "execution_count": null,
   "metadata": {},
   "outputs": [],
   "source": []
  }
 ],
 "metadata": {
  "kernelspec": {
   "display_name": "Python 3 (ipykernel)",
   "language": "python",
   "name": "python3"
  },
  "language_info": {
   "codemirror_mode": {
    "name": "ipython",
    "version": 3
   },
   "file_extension": ".py",
   "mimetype": "text/x-python",
   "name": "python",
   "nbconvert_exporter": "python",
   "pygments_lexer": "ipython3",
   "version": "3.11.4"
  }
 },
 "nbformat": 4,
 "nbformat_minor": 4
}
