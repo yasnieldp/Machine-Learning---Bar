{
 "cells": [
  {
   "cell_type": "code",
   "execution_count": 8,
   "metadata": {},
   "outputs": [
    {
     "name": "stderr",
     "output_type": "stream",
     "text": [
      "C:\\Users\\53536\\AppData\\Local\\Temp\\ipykernel_18048\\2137246586.py:6: FutureWarning: DataFrame.applymap has been deprecated. Use DataFrame.map instead.\n",
      "  data1 = contingency_table.applymap(lambda n: 1 if n > 0 else 0)\n"
     ]
    },
    {
     "name": "stdout",
     "output_type": "stream",
     "text": [
      "Cantidad de veces que se pidió el producto Agua 0,5 L: 7171\n"
     ]
    },
    {
     "data": {
      "text/html": [
       "<div>\n",
       "<style scoped>\n",
       "    .dataframe tbody tr th:only-of-type {\n",
       "        vertical-align: middle;\n",
       "    }\n",
       "\n",
       "    .dataframe tbody tr th {\n",
       "        vertical-align: top;\n",
       "    }\n",
       "\n",
       "    .dataframe thead th {\n",
       "        text-align: right;\n",
       "    }\n",
       "</style>\n",
       "<table border=\"1\" class=\"dataframe\">\n",
       "  <thead>\n",
       "    <tr style=\"text-align: right;\">\n",
       "      <th></th>\n",
       "      <th>Nombre_del_Producto</th>\n",
       "      <th>Cantidad</th>\n",
       "      <th>Probabilidad</th>\n",
       "    </tr>\n",
       "  </thead>\n",
       "  <tbody>\n",
       "    <tr>\n",
       "      <th>1</th>\n",
       "      <td>Coca cola</td>\n",
       "      <td>1636</td>\n",
       "      <td>22.81</td>\n",
       "    </tr>\n",
       "    <tr>\n",
       "      <th>2</th>\n",
       "      <td>Cola Zero</td>\n",
       "      <td>1451</td>\n",
       "      <td>20.23</td>\n",
       "    </tr>\n",
       "    <tr>\n",
       "      <th>3</th>\n",
       "      <td>CaÃ±a</td>\n",
       "      <td>1386</td>\n",
       "      <td>19.33</td>\n",
       "    </tr>\n",
       "    <tr>\n",
       "      <th>4</th>\n",
       "      <td>SÃºper bbq</td>\n",
       "      <td>1369</td>\n",
       "      <td>19.09</td>\n",
       "    </tr>\n",
       "    <tr>\n",
       "      <th>5</th>\n",
       "      <td>Prosciutto</td>\n",
       "      <td>1337</td>\n",
       "      <td>18.64</td>\n",
       "    </tr>\n",
       "    <tr>\n",
       "      <th>6</th>\n",
       "      <td>Carbonara</td>\n",
       "      <td>874</td>\n",
       "      <td>12.19</td>\n",
       "    </tr>\n",
       "    <tr>\n",
       "      <th>7</th>\n",
       "      <td>4 Formaggi</td>\n",
       "      <td>839</td>\n",
       "      <td>11.70</td>\n",
       "    </tr>\n",
       "    <tr>\n",
       "      <th>8</th>\n",
       "      <td>Pinta</td>\n",
       "      <td>782</td>\n",
       "      <td>10.91</td>\n",
       "    </tr>\n",
       "    <tr>\n",
       "      <th>9</th>\n",
       "      <td>Jb.</td>\n",
       "      <td>760</td>\n",
       "      <td>10.60</td>\n",
       "    </tr>\n",
       "    <tr>\n",
       "      <th>10</th>\n",
       "      <td>Aquarius limÃ³n</td>\n",
       "      <td>746</td>\n",
       "      <td>10.40</td>\n",
       "    </tr>\n",
       "  </tbody>\n",
       "</table>\n",
       "</div>"
      ],
      "text/plain": [
       "   Nombre_del_Producto  Cantidad  Probabilidad\n",
       "1            Coca cola      1636         22.81\n",
       "2           Cola Zero       1451         20.23\n",
       "3                CaÃ±a      1386         19.33\n",
       "4           SÃºper bbq      1369         19.09\n",
       "5           Prosciutto      1337         18.64\n",
       "6            Carbonara       874         12.19\n",
       "7           4 Formaggi       839         11.70\n",
       "8               Pinta        782         10.91\n",
       "9                  Jb.       760         10.60\n",
       "10     Aquarius limÃ³n       746         10.40"
      ]
     },
     "execution_count": 8,
     "metadata": {},
     "output_type": "execute_result"
    }
   ],
   "source": [
    "import pandas as pd\n",
    "data = pd.read_csv(\"pedidos por mesa.csv\", encoding='latin1')\n",
    "\n",
    "y=\"Agua 0,5 L\"\n",
    "contingency_table = data.groupby(['command_id', 'product_name']).size().unstack(fill_value=0).reset_index()\n",
    "data1 = contingency_table.applymap(lambda n: 1 if n > 0 else 0)\n",
    "a = data1[y].sum()\n",
    "data2 = data1[(data1[y] > 0)].sum().reset_index()\n",
    "data3 = data2[(data2[0] > 0)].rename(columns={0: \"Cantidad\", \"product_name\": \"Nombre_del_Producto\"})\n",
    "data4 = data3[data3[\"Cantidad\"] > 0][1:].sort_values(by='Cantidad', ascending=False).reset_index(drop=True)[1:11]\n",
    "data4[\"Probabilidad\"] = data4[\"Cantidad\"] / a * 100\n",
    "data5 = round(data4[data4[\"Nombre_del_Producto\"] != y][[\"Nombre_del_Producto\", \"Cantidad\", \"Probabilidad\"]], 2)\n",
    "print(f\"Cantidad de veces que se pidió el producto {y}:\", a)\n",
    "data5.head(14)"
   ]
  }
 ],
 "metadata": {
  "kernelspec": {
   "display_name": "Python 3",
   "language": "python",
   "name": "python3"
  },
  "language_info": {
   "codemirror_mode": {
    "name": "ipython",
    "version": 3
   },
   "file_extension": ".py",
   "mimetype": "text/x-python",
   "name": "python",
   "nbconvert_exporter": "python",
   "pygments_lexer": "ipython3",
   "version": "3.11.4"
  }
 },
 "nbformat": 4,
 "nbformat_minor": 2
}
